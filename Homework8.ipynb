{
 "cells": [
  {
   "cell_type": "markdown",
   "id": "75db4f0f",
   "metadata": {},
   "source": [
    "ЗАДАЧА1: Даны значения величины заработной платы заемщиков банка (zp) и значения их поведенческого кредитного скоринга (ks):\n",
    "zp = [35, 45, 190, 200, 40, 70, 54, 150, 120, 110],\n",
    "\n",
    "ks = [401, 574, 874, 919, 459, 739, 653, 902, 746, 832].\n",
    "\n",
    "Найдите ковариацию этих двух величин с помощью элементарных действий, а затем с помощью функции cov из numpy\n",
    "\n",
    "Полученные значения должны быть равны.\n",
    "\n",
    "Найдите коэффициент корреляции Пирсона с помощью ковариации и среднеквадратичных отклонений двух признаков, а затем с использованием функций из библиотек numpy и pandas."
   ]
  },
  {
   "cell_type": "markdown",
   "id": "2198184d",
   "metadata": {},
   "source": [
    "Решение"
   ]
  },
  {
   "cell_type": "code",
   "execution_count": 31,
   "id": "7d6d1a0f",
   "metadata": {},
   "outputs": [],
   "source": [
    "import numpy as np"
   ]
  },
  {
   "cell_type": "code",
   "execution_count": 32,
   "id": "2b62bab1",
   "metadata": {},
   "outputs": [],
   "source": [
    "zp = np.array([35, 45, 190, 200, 40, 70, 54, 150, 120, 110])\n",
    "ks = np.array([401, 574, 874, 919, 459, 739, 653, 902, 746, 832])"
   ]
  },
  {
   "cell_type": "code",
   "execution_count": 75,
   "id": "b0251f3e",
   "metadata": {},
   "outputs": [
    {
     "data": {
      "text/plain": [
       "array([[ 3494.64,  9157.84],\n",
       "       [ 9157.84, 30468.89]])"
      ]
     },
     "execution_count": 75,
     "metadata": {},
     "output_type": "execute_result"
    }
   ],
   "source": [
    "np.cov(zp, ks, ddof=0)"
   ]
  },
  {
   "cell_type": "code",
   "execution_count": 62,
   "id": "10facbc6",
   "metadata": {},
   "outputs": [],
   "source": [
    "zp_mean = np.mean(zp)\n",
    "ks_mean = np.mean(ks)\n",
    "common_mean = np.mean(zp*ks)"
   ]
  },
  {
   "cell_type": "code",
   "execution_count": 63,
   "id": "53760275",
   "metadata": {},
   "outputs": [
    {
     "data": {
      "text/plain": [
       "9157.839999999997"
      ]
     },
     "execution_count": 63,
     "metadata": {},
     "output_type": "execute_result"
    }
   ],
   "source": [
    "coef_cov = common_mean - zp_mean * ks_mean\n",
    "coef_cov"
   ]
  },
  {
   "cell_type": "markdown",
   "id": "7c43bec0",
   "metadata": {},
   "source": [
    "Коэффициент ковариации, расчитанный 2-мя способами совпадает и равен 9157.839999999997"
   ]
  },
  {
   "cell_type": "code",
   "execution_count": 71,
   "id": "0ab51189",
   "metadata": {},
   "outputs": [
    {
     "data": {
      "text/plain": [
       "59.115480206118605"
      ]
     },
     "execution_count": 71,
     "metadata": {},
     "output_type": "execute_result"
    }
   ],
   "source": [
    "sigma_zp = np.std(zp, ddof=0)\n",
    "sigma_zp"
   ]
  },
  {
   "cell_type": "code",
   "execution_count": 72,
   "id": "aa8da4b4",
   "metadata": {},
   "outputs": [
    {
     "data": {
      "text/plain": [
       "174.55340157098058"
      ]
     },
     "execution_count": 72,
     "metadata": {},
     "output_type": "execute_result"
    }
   ],
   "source": [
    "sigma_ks = np.std(ks, ddof=0)\n",
    "sigma_ks"
   ]
  },
  {
   "cell_type": "code",
   "execution_count": 73,
   "id": "ea4fac90",
   "metadata": {},
   "outputs": [
    {
     "data": {
      "text/plain": [
       "0.8874900920739158"
      ]
     },
     "execution_count": 73,
     "metadata": {},
     "output_type": "execute_result"
    }
   ],
   "source": [
    "coef_corr = coef_cov/(sigma_zp*sigma_ks)\n",
    "coef_corr"
   ]
  },
  {
   "cell_type": "code",
   "execution_count": 74,
   "id": "4b7a5047",
   "metadata": {},
   "outputs": [
    {
     "data": {
      "text/plain": [
       "array([[1.        , 0.88749009],\n",
       "       [0.88749009, 1.        ]])"
      ]
     },
     "execution_count": 74,
     "metadata": {},
     "output_type": "execute_result"
    }
   ],
   "source": [
    "np.corrcoef(zp, ks)"
   ]
  },
  {
   "cell_type": "markdown",
   "id": "320b0f35",
   "metadata": {},
   "source": [
    "ВЫВОД: Коэффициент корреляции равен около 0.9, что говорит о сильной связи между величины заработной платы\n",
    "заемщиков банка (zp) и значения их поведенческого кредитного скоринга"
   ]
  },
  {
   "cell_type": "markdown",
   "id": "7cd80374",
   "metadata": {},
   "source": [
    "ЗАДАЧА2: Измерены значения IQ выборки студентов,\n",
    "обучающихся в местных технических вузах:\n",
    "\n",
    "131, 125, 115, 122, 131, 115, 107, 99, 125, 111.\n",
    "\n",
    "Известно, что в генеральной совокупности IQ распределен нормально.\n",
    "Найдите доверительный интервал для математического ожидания с надежностью 0.95."
   ]
  },
  {
   "cell_type": "markdown",
   "id": "fed9939f",
   "metadata": {},
   "source": [
    "Решение"
   ]
  },
  {
   "cell_type": "code",
   "execution_count": 76,
   "id": "a4867132",
   "metadata": {},
   "outputs": [],
   "source": [
    "import scipy.stats as stats"
   ]
  },
  {
   "cell_type": "code",
   "execution_count": 78,
   "id": "fa19ce44",
   "metadata": {},
   "outputs": [],
   "source": [
    "x = np.array([131, 125, 115, 122, 131, 115, 107, 99, 125, 111])\n",
    "alpha = 0.05\n",
    "n = 10"
   ]
  },
  {
   "cell_type": "markdown",
   "id": "fe2680d3",
   "metadata": {},
   "source": [
    "Используем критерий Стьюдента"
   ]
  },
  {
   "cell_type": "code",
   "execution_count": 81,
   "id": "777d086b",
   "metadata": {},
   "outputs": [
    {
     "name": "stdout",
     "output_type": "stream",
     "text": [
      "Доверительный интервал:(110.55608365158724 : 125.64391634841274)\n"
     ]
    }
   ],
   "source": [
    "t = stats.t.ppf(0.975, df = n - 1)\n",
    "x_mean = np.mean(x)\n",
    "D = np.var(x, ddof=1)\n",
    "x1 = x_mean - t * np.sqrt(D/n)\n",
    "x2 = x_mean + t * np.sqrt(D/n)\n",
    "print(f'Доверительный интервал:({x1} : {x2})')"
   ]
  },
  {
   "cell_type": "markdown",
   "id": "70f155a0",
   "metadata": {},
   "source": [
    "ЗАДАЧА3: Известно, что рост футболистов в сборной распределен нормально с дисперсией генеральной совокупности, равной 25 кв.см. Объем выборки равен 27, среднее выборочное составляет 174.2. Найдите доверительный интервал для математического ожидания с надежностью 0.95."
   ]
  },
  {
   "cell_type": "markdown",
   "id": "455f248d",
   "metadata": {},
   "source": [
    "Решение"
   ]
  },
  {
   "cell_type": "code",
   "execution_count": 82,
   "id": "24c2a2c8",
   "metadata": {},
   "outputs": [],
   "source": [
    "α = 0.05 \n",
    "M = 174.2 \n",
    "n = 27 \n",
    "z = 1.96 \n",
    "D = 25"
   ]
  },
  {
   "cell_type": "code",
   "execution_count": 85,
   "id": "276a409a",
   "metadata": {},
   "outputs": [
    {
     "name": "stdout",
     "output_type": "stream",
     "text": [
      "доверительный интервал - (172.31398912064722;176.08601087935276)\n"
     ]
    },
    {
     "data": {
      "text/plain": [
       "-1.6448536269514729"
      ]
     },
     "execution_count": 85,
     "metadata": {},
     "output_type": "execute_result"
    }
   ],
   "source": [
    "res_1 = M + z * np.sqrt(D / n)\n",
    "res_2 = M - z * np.sqrt(D / n)\n",
    "print(f'доверительный интервал - ({res_2};{res_1})')"
   ]
  },
  {
   "cell_type": "code",
   "execution_count": null,
   "id": "c8384144",
   "metadata": {},
   "outputs": [],
   "source": []
  }
 ],
 "metadata": {
  "kernelspec": {
   "display_name": "Python 3 (ipykernel)",
   "language": "python",
   "name": "python3"
  },
  "language_info": {
   "codemirror_mode": {
    "name": "ipython",
    "version": 3
   },
   "file_extension": ".py",
   "mimetype": "text/x-python",
   "name": "python",
   "nbconvert_exporter": "python",
   "pygments_lexer": "ipython3",
   "version": "3.9.13"
  }
 },
 "nbformat": 4,
 "nbformat_minor": 5
}
